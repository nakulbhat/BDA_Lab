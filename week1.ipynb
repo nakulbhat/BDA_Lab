{
 "cells": [
  {
   "cell_type": "code",
   "execution_count": 1,
   "id": "aef91563",
   "metadata": {},
   "outputs": [
    {
     "name": "stderr",
     "output_type": "stream",
     "text": [
      "WARNING: Using incubator modules: jdk.incubator.vector\n",
      "Using Spark's default log4j profile: org/apache/spark/log4j2-defaults.properties\n",
      "25/07/23 15:18:49 WARN Utils: Your hostname, dbl-12, resolves to a loopback address: 127.0.1.1; using 172.16.58.146 instead (on interface eno1)\n",
      "25/07/23 15:18:49 WARN Utils: Set SPARK_LOCAL_IP if you need to bind to another address\n",
      "Using Spark's default log4j profile: org/apache/spark/log4j2-defaults.properties\n",
      "Setting default log level to \"WARN\".\n",
      "To adjust logging level use sc.setLogLevel(newLevel). For SparkR, use setLogLevel(newLevel).\n",
      "25/07/23 15:18:50 WARN NativeCodeLoader: Unable to load native-hadoop library for your platform... using builtin-java classes where applicable\n",
      "25/07/23 15:18:50 WARN Utils: Service 'SparkUI' could not bind on port 4040. Attempting port 4041.\n"
     ]
    }
   ],
   "source": [
    "from pyspark import SparkContext\n",
    "sc = SparkContext(\"local\", \"First RDD Experience\")"
   ]
  },
  {
   "cell_type": "code",
   "execution_count": 2,
   "id": "4ad021d4",
   "metadata": {},
   "outputs": [],
   "source": [
    "import random\n",
    "from pyspark.sql import SparkSession\n",
    "spark = SparkSession.builder.appName(\"SPARK SESSION\").getOrCreate()"
   ]
  },
  {
   "cell_type": "code",
   "execution_count": 3,
   "id": "0844794e",
   "metadata": {},
   "outputs": [
    {
     "data": {
      "text/plain": [
       "[1, 4, 9, 16, 25, 36, 49, 64, 81, 100]"
      ]
     },
     "execution_count": 3,
     "metadata": {},
     "output_type": "execute_result"
    }
   ],
   "source": [
    "numbers = sc.parallelize(range(1,11))\n",
    "numbers_squared = numbers.map(lambda x:x*x)\n",
    "numbers_squared.collect()"
   ]
  },
  {
   "cell_type": "code",
   "execution_count": 4,
   "id": "1885653f",
   "metadata": {},
   "outputs": [
    {
     "data": {
      "text/plain": [
       "992"
      ]
     },
     "execution_count": 4,
     "metadata": {},
     "output_type": "execute_result"
    }
   ],
   "source": [
    "max_nums = sc.parallelize([random.randint(0,1000) for x in range(100)])\n",
    "max_num = max(max_nums.collect())\n",
    "max_num"
   ]
  },
  {
   "cell_type": "code",
   "execution_count": 5,
   "id": "ed75978a",
   "metadata": {},
   "outputs": [
    {
     "data": {
      "text/plain": [
       "508.33"
      ]
     },
     "execution_count": 5,
     "metadata": {},
     "output_type": "execute_result"
    }
   ],
   "source": [
    "avg_nums = sc.parallelize([random.randint(0,1000) for x in range(100)])\n",
    "avg = sum(avg_nums.collect())/len(avg_nums.collect())\n",
    "avg"
   ]
  },
  {
   "cell_type": "code",
   "execution_count": 10,
   "id": "9ec724c1",
   "metadata": {},
   "outputs": [
    {
     "name": "stdout",
     "output_type": "stream",
     "text": [
      "+-----+---------------+----------+---------+--------------------+-----------------+-------------------+--------------------+-------------------+--------------------+-----------------+--------------------+\n",
      "|  _c0|            _c1|       _c2|      _c3|                 _c4|              _c5|                _c6|                 _c7|                _c8|                 _c9|             _c10|                _c11|\n",
      "+-----+---------------+----------+---------+--------------------+-----------------+-------------------+--------------------+-------------------+--------------------+-----------------+--------------------+\n",
      "|Index|    Customer Id|First Name|Last Name|             Company|             City|            Country|             Phone 1|            Phone 2|               Email|Subscription Date|             Website|\n",
      "|    1|DD37Cf93aecA6Dc|    Sheryl|   Baxter|     Rasmussen Group|     East Leonard|              Chile|        229.077.5154|   397.884.0519x718|zunigavanessa@smi...|       2020-08-24|http://www.stephe...|\n",
      "|    2|1Ef7b82A4CAAD10|   Preston|   Lozano|         Vega-Gentry|East Jimmychester|           Djibouti|          5153435776|   686-620-1820x944|     vmata@colon.com|       2021-04-23|http://www.hobbs....|\n",
      "|    3|6F94879bDAfE5a6|       Roy|    Berry|       Murillo-Perry|    Isabelborough|Antigua and Barbuda|     +1-539-402-0259|(496)978-3969x58947| beckycarr@hogan.com|       2020-03-25|http://www.lawren...|\n",
      "|    4|5Cef8BFA16c5e3c|     Linda|    Olsen|Dominguez, Mcmill...|       Bensonview| Dominican Republic|001-808-617-6467x...|    +1-813-324-8756|stanleyblackwell@...|       2020-06-02|http://www.good-l...|\n",
      "+-----+---------------+----------+---------+--------------------+-----------------+-------------------+--------------------+-------------------+--------------------+-----------------+--------------------+\n",
      "only showing top 5 rows\n"
     ]
    }
   ],
   "source": [
    "csv_path = 'customers-100.csv'\n",
    "df = spark.read.csv(csv_path)\n",
    "df.show(5)"
   ]
  },
  {
   "cell_type": "code",
   "execution_count": 14,
   "id": "ac8f852b",
   "metadata": {},
   "outputs": [
    {
     "name": "stderr",
     "output_type": "stream",
     "text": [
      "25/07/23 15:34:59 WARN SparkStringUtils: Truncated the string representation of a plan since it was too large. This behavior can be adjusted by setting 'spark.sql.debug.maxToStringFields'.\n"
     ]
    },
    {
     "name": "stdout",
     "output_type": "stream",
     "text": [
      "+-------+------------------+---------------+------+--------+--------------------+-------------+--------+--------------------+-------------------+--------------------+-----------------+--------------------+\n",
      "|summary|               _c0|            _c1|   _c2|     _c3|                 _c4|          _c5|     _c6|                 _c7|                _c8|                 _c9|             _c10|                _c11|\n",
      "+-------+------------------+---------------+------+--------+--------------------+-------------+--------+--------------------+-------------------+--------------------+-----------------+--------------------+\n",
      "|  count|               101|            101|   101|     101|                 101|          101|     101|                 101|                101|                 101|              101|                 101|\n",
      "|   mean|              50.5|           NULL|  NULL|    NULL|                NULL|         NULL|    NULL|      5.1711689515E9|    6.22990414175E9|                NULL|             NULL|                NULL|\n",
      "| stddev|29.011491975882016|           NULL|  NULL|    NULL|                NULL|         NULL|    NULL|2.0834518419015326E9|3.236655563744217E9|                NULL|             NULL|                NULL|\n",
      "|    min|                 1|010468dAA11382c| Aimee|Alvarado|Acosta, Petersen ...| Acevedoville| Albania|       (041)737-3846| (026)401-7353x2417|               Email|       2020-01-13|             Website|\n",
      "|    max|             Index|faCEF517ae7D8eB|Yvonne|  Zuniga|     Winters-Mendoza|Zimmermanland|Zimbabwe|             Phone 1|            Phone 2|zvalencia@phelps.com|Subscription Date|https://www.vang....|\n",
      "+-------+------------------+---------------+------+--------+--------------------+-------------+--------+--------------------+-------------------+--------------------+-----------------+--------------------+\n",
      "\n"
     ]
    }
   ],
   "source": [
    "df.describe().show()"
   ]
  }
 ],
 "metadata": {
  "kernelspec": {
   "display_name": "sparkenv",
   "language": "python",
   "name": "myenv"
  },
  "language_info": {
   "codemirror_mode": {
    "name": "ipython",
    "version": 3
   },
   "file_extension": ".py",
   "mimetype": "text/x-python",
   "name": "python",
   "nbconvert_exporter": "python",
   "pygments_lexer": "ipython3",
   "version": "3.11.2"
  }
 },
 "nbformat": 4,
 "nbformat_minor": 5
}
