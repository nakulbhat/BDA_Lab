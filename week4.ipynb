{
 "cells": [
  {
   "cell_type": "code",
   "execution_count": 1,
   "id": "d04f7805",
   "metadata": {},
   "outputs": [
    {
     "name": "stderr",
     "output_type": "stream",
     "text": [
      "WARNING: Using incubator modules: jdk.incubator.vector\n",
      "Using Spark's default log4j profile: org/apache/spark/log4j2-defaults.properties\n",
      "25/09/03 16:02:54 WARN Utils: Your hostname, dbl-12, resolves to a loopback address: 127.0.1.1; using 172.16.58.146 instead (on interface eno1)\n",
      "25/09/03 16:02:54 WARN Utils: Set SPARK_LOCAL_IP if you need to bind to another address\n",
      "Using Spark's default log4j profile: org/apache/spark/log4j2-defaults.properties\n",
      "Setting default log level to \"WARN\".\n",
      "To adjust logging level use sc.setLogLevel(newLevel). For SparkR, use setLogLevel(newLevel).\n",
      "25/09/03 16:02:55 WARN NativeCodeLoader: Unable to load native-hadoop library for your platform... using builtin-java classes where applicable\n"
     ]
    }
   ],
   "source": [
    "from pyspark.sql import SparkSession\n",
    "spark = SparkSession.builder.appName(\"lab4\").getOrCreate()\n",
    "from pyspark.sql.functions import *\n",
    "from pyspark.sql.types import *"
   ]
  },
  {
   "cell_type": "code",
   "execution_count": 2,
   "id": "9a082e50",
   "metadata": {},
   "outputs": [
    {
     "name": "stderr",
     "output_type": "stream",
     "text": [
      "\r\n",
      "[Stage 0:>                                                        (0 + 14) / 14]\r\n",
      "\r\n",
      "                                                                                \r"
     ]
    }
   ],
   "source": [
    "df = spark.read.json('movies.json')"
   ]
  },
  {
   "cell_type": "code",
   "execution_count": 3,
   "id": "c36361fd",
   "metadata": {},
   "outputs": [
    {
     "name": "stdout",
     "output_type": "stream",
     "text": [
      "+-----------+----------+--------------------+--------------------+-----+--------------------+----------+--------------+\n",
      "|helpfulness|product_id|        profile_name|              review|score|             summary|      time|       user_id|\n",
      "+-----------+----------+--------------------+--------------------+-----+--------------------+----------+--------------+\n",
      "|        7/7|B003AI2VGA|Brian E. Erland \"...|Synopsis: On the ...|  3.0|\"There Is So Much...|1182729600|A141HP4LYPWMSR|\n",
      "|        4/4|B003AI2VGA|          Grady Harp|THE VIRGIN OF JUA...|  3.0|Worthwhile and Im...|1181952000|A328S9RN3U5M68|\n",
      "|       8/10|B003AI2VGA|Chrissy K. McVay ...|The scenes in thi...|  5.0|This movie needed...|1164844800|A1I7QGUDP043DG|\n",
      "|        1/1|B003AI2VGA|        golgotha.gov|THE VIRGIN OF JUA...|  3.0|distantly based o...|1197158400|A1M5405JH9THP9|\n",
      "|        1/1|B003AI2VGA|KerrLines \"&#34;M...|Informationally, ...|  3.0|\"What's going on ...|1188345600| ATXL536YX71TR|\n",
      "|        0/0|B003AI2VGA|abra \"a devoted r...|The murders in Ju...|  2.0|Pretty pointless ...|1229040000|A3QYDL5CDNYN66|\n",
      "|       3/11|B003AI2VGA| Charles R. Williams|Mexican men are m...|  1.0|This is junk, sta...|1164153600| AQJVNDW6YZFQS|\n",
      "|      64/65|B00006HAXW|   Anthony Accordino|Over the past few...|  5.0|A  Rock N Roll Hi...|1060473600| AD4CDZK7D31XP|\n",
      "|      26/26|B00006HAXW|    Joseph P. Aiello|I recvd this vide...|  5.0|A  MUST-HAVE  vid...|1041292800|A3Q4S5DFVPB70D|\n",
      "|      24/24|B00006HAXW|     \"bruce_from_la\"|Wow! When I saw t...|  5.0|If You Like DooWo...|1061164800|A2P7UB02HAVEPB|\n",
      "|      22/23|B00006HAXW|    Henrique Peirano|I have the Doo Wo...|  4.0|    I expected more.|1039564800|A2TX99AZKDK0V7|\n",
      "|      14/14|B00006HAXW|      Richard Albero|Having worked in ...|  5.0|Professional Exce...|1045526400| AFC8IKR407HSK|\n",
      "|        9/9|B00006HAXW|                 Les|The people who ha...|  5.0|Marvelous, just M...|1062979200|A1FRPGQYQTAOR1|\n",
      "|        9/9|B00006HAXW|     Joseph M. Kotow|I have all of the...|  5.0|Pittsburgh - Home...|1042502400|A1RSDE90N6RSZF|\n",
      "|        7/7|B00006HAXW|      \"fellafromnyc\"|The performance o...|  4.0|They sang in the ...|1049846400|A1OUBOGB5970AO|\n",
      "|        7/7|B00006HAXW|           S. Dorman|Get it, also get ...|  5.0|DOO WOP RECORDED ...|1047945600|A3NPHQVIY59Y0Y|\n",
      "|        7/7|B00006HAXW|                 RFP|Excellent, excell...|  5.0|ROCK RYTHM AND DO...|1038787200| AFKMBAY28XO8A|\n",
      "|        4/4|B00006HAXW|           C. Thomas|This video is awe...|  5.0|Unbelievable Best...|1177804800| A66KMXH9V7OGU|\n",
      "|        3/3|B00006HAXW|   Michael A. Martin|As I stated in my...|  5.0|Another outstandi...|1200096000| AFJ27ZV9183B8|\n",
      "|        5/6|B00006HAXW|C. W. Emblom \"Bil...|I own both the VH...|  5.0|Outstanding Wheth...|1082592000| AXMKAXC0TR9AW|\n",
      "+-----------+----------+--------------------+--------------------+-----+--------------------+----------+--------------+\n",
      "only showing top 20 rows\n"
     ]
    }
   ],
   "source": [
    "df.show()"
   ]
  },
  {
   "cell_type": "code",
   "execution_count": 4,
   "id": "30a903fc",
   "metadata": {},
   "outputs": [],
   "source": [
    "def bin_from_hex(hash_string):\n",
    "    return int(hash_string, 16)%10**8"
   ]
  },
  {
   "cell_type": "code",
   "execution_count": 5,
   "id": "5a6663ef",
   "metadata": {},
   "outputs": [],
   "source": [
    "bin_from_hex_udf = udf(bin_from_hex, LongType())"
   ]
  },
  {
   "cell_type": "code",
   "execution_count": 6,
   "id": "43f9b2e2",
   "metadata": {},
   "outputs": [],
   "source": [
    "df = df.withColumn('user_id_preprocessed', bin_from_hex_udf(sha1(col('user_id'))))\n",
    "df = df.withColumn('product_id_preprocessed', bin_from_hex_udf(sha1(col('product_id'))))"
   ]
  },
  {
   "cell_type": "code",
   "execution_count": 7,
   "id": "f42ff4bf",
   "metadata": {},
   "outputs": [
    {
     "name": "stdout",
     "output_type": "stream",
     "text": [
      "+-----------+----------+--------------------+--------------------+-----+--------------------+----------+--------------+--------------------+-----------------------+\n",
      "|helpfulness|product_id|        profile_name|              review|score|             summary|      time|       user_id|user_id_preprocessed|product_id_preprocessed|\n",
      "+-----------+----------+--------------------+--------------------+-----+--------------------+----------+--------------+--------------------+-----------------------+\n",
      "|        7/7|B003AI2VGA|Brian E. Erland \"...|Synopsis: On the ...|  3.0|\"There Is So Much...|1182729600|A141HP4LYPWMSR|             5460385|               51259877|\n",
      "|        4/4|B003AI2VGA|          Grady Harp|THE VIRGIN OF JUA...|  3.0|Worthwhile and Im...|1181952000|A328S9RN3U5M68|            64843361|               51259877|\n",
      "|       8/10|B003AI2VGA|Chrissy K. McVay ...|The scenes in thi...|  5.0|This movie needed...|1164844800|A1I7QGUDP043DG|             1480848|               51259877|\n",
      "|        1/1|B003AI2VGA|        golgotha.gov|THE VIRGIN OF JUA...|  3.0|distantly based o...|1197158400|A1M5405JH9THP9|            81925650|               51259877|\n",
      "|        1/1|B003AI2VGA|KerrLines \"&#34;M...|Informationally, ...|  3.0|\"What's going on ...|1188345600| ATXL536YX71TR|            40460580|               51259877|\n",
      "|        0/0|B003AI2VGA|abra \"a devoted r...|The murders in Ju...|  2.0|Pretty pointless ...|1229040000|A3QYDL5CDNYN66|            81231482|               51259877|\n",
      "|       3/11|B003AI2VGA| Charles R. Williams|Mexican men are m...|  1.0|This is junk, sta...|1164153600| AQJVNDW6YZFQS|            70150525|               51259877|\n",
      "|      64/65|B00006HAXW|   Anthony Accordino|Over the past few...|  5.0|A  Rock N Roll Hi...|1060473600| AD4CDZK7D31XP|            97008113|               40695676|\n",
      "|      26/26|B00006HAXW|    Joseph P. Aiello|I recvd this vide...|  5.0|A  MUST-HAVE  vid...|1041292800|A3Q4S5DFVPB70D|            26641678|               40695676|\n",
      "|      24/24|B00006HAXW|     \"bruce_from_la\"|Wow! When I saw t...|  5.0|If You Like DooWo...|1061164800|A2P7UB02HAVEPB|            75288382|               40695676|\n",
      "|      22/23|B00006HAXW|    Henrique Peirano|I have the Doo Wo...|  4.0|    I expected more.|1039564800|A2TX99AZKDK0V7|            53511390|               40695676|\n",
      "|      14/14|B00006HAXW|      Richard Albero|Having worked in ...|  5.0|Professional Exce...|1045526400| AFC8IKR407HSK|            73643713|               40695676|\n",
      "|        9/9|B00006HAXW|                 Les|The people who ha...|  5.0|Marvelous, just M...|1062979200|A1FRPGQYQTAOR1|            16049938|               40695676|\n",
      "|        9/9|B00006HAXW|     Joseph M. Kotow|I have all of the...|  5.0|Pittsburgh - Home...|1042502400|A1RSDE90N6RSZF|            49895560|               40695676|\n",
      "|        7/7|B00006HAXW|      \"fellafromnyc\"|The performance o...|  4.0|They sang in the ...|1049846400|A1OUBOGB5970AO|            55191212|               40695676|\n",
      "|        7/7|B00006HAXW|           S. Dorman|Get it, also get ...|  5.0|DOO WOP RECORDED ...|1047945600|A3NPHQVIY59Y0Y|            41859013|               40695676|\n",
      "|        7/7|B00006HAXW|                 RFP|Excellent, excell...|  5.0|ROCK RYTHM AND DO...|1038787200| AFKMBAY28XO8A|            29851768|               40695676|\n",
      "|        4/4|B00006HAXW|           C. Thomas|This video is awe...|  5.0|Unbelievable Best...|1177804800| A66KMXH9V7OGU|            74227826|               40695676|\n",
      "|        3/3|B00006HAXW|   Michael A. Martin|As I stated in my...|  5.0|Another outstandi...|1200096000| AFJ27ZV9183B8|            37549869|               40695676|\n",
      "|        5/6|B00006HAXW|C. W. Emblom \"Bil...|I own both the VH...|  5.0|Outstanding Wheth...|1082592000| AXMKAXC0TR9AW|            85150554|               40695676|\n",
      "+-----------+----------+--------------------+--------------------+-----+--------------------+----------+--------------+--------------------+-----------------------+\n",
      "only showing top 20 rows\n"
     ]
    }
   ],
   "source": [
    "df.show()"
   ]
  },
  {
   "cell_type": "code",
   "execution_count": 8,
   "id": "37700942",
   "metadata": {},
   "outputs": [],
   "source": [
    "from pyspark.ml.evaluation import RegressionEvaluator\n",
    "from pyspark.ml.recommendation import ALS\n",
    "from pyspark.sql import Row\n",
    "\n",
    "train, test = df.randomSplit([0.6, 0.4])"
   ]
  },
  {
   "cell_type": "code",
   "execution_count": 9,
   "id": "1a704901",
   "metadata": {},
   "outputs": [
    {
     "data": {
      "text/plain": [
       "30133"
      ]
     },
     "execution_count": 9,
     "metadata": {},
     "output_type": "execute_result"
    }
   ],
   "source": [
    "train.count()"
   ]
  },
  {
   "cell_type": "code",
   "execution_count": 10,
   "id": "c8aa4198",
   "metadata": {},
   "outputs": [
    {
     "data": {
      "text/plain": [
       "19867"
      ]
     },
     "execution_count": 10,
     "metadata": {},
     "output_type": "execute_result"
    }
   ],
   "source": [
    "test.count()"
   ]
  },
  {
   "cell_type": "code",
   "execution_count": 11,
   "id": "129b6132",
   "metadata": {},
   "outputs": [
    {
     "name": "stdout",
     "output_type": "stream",
     "text": [
      "0\n"
     ]
    }
   ],
   "source": [
    "als = ALS(userCol='user_id_preprocessed', itemCol='product_id_preprocessed', ratingCol='score', coldStartStrategy='drop')\n",
    "model = als.fit(train)\n",
    "predictions = model.transform(test)\n",
    "print(predictions.filter(col('prediction').isNaN()).count())\n",
    "predictions = predictions.dropna()"
   ]
  },
  {
   "cell_type": "code",
   "execution_count": 12,
   "id": "55282b64",
   "metadata": {},
   "outputs": [
    {
     "data": {
      "text/plain": [
       "2.268563536578244"
      ]
     },
     "execution_count": 12,
     "metadata": {},
     "output_type": "execute_result"
    }
   ],
   "source": [
    "evaluator = RegressionEvaluator(metricName=\"rmse\", labelCol=\"score\", predictionCol=\"prediction\")\n",
    "rmse = evaluator.evaluate(predictions)\n",
    "rmse"
   ]
  },
  {
   "cell_type": "code",
   "execution_count": 14,
   "id": "a0a9ad1f",
   "metadata": {},
   "outputs": [],
   "source": [
    "from pyspark.ml.tuning import ParamGridBuilder"
   ]
  },
  {
   "cell_type": "code",
   "execution_count": 16,
   "id": "52cad9c1",
   "metadata": {},
   "outputs": [
    {
     "ename": "TypeError",
     "evalue": "ParamGridBuilder.addGrid() missing 3 required positional arguments: 'self', 'param', and 'values'",
     "output_type": "error",
     "traceback": [
      "\u001b[31m---------------------------------------------------------------------------\u001b[39m",
      "\u001b[31mTypeError\u001b[39m                                 Traceback (most recent call last)",
      "\u001b[36mCell\u001b[39m\u001b[36m \u001b[39m\u001b[32mIn[16]\u001b[39m\u001b[32m, line 1\u001b[39m\n\u001b[32m----> \u001b[39m\u001b[32m1\u001b[39m grid = \u001b[43mParamGridBuilder\u001b[49m\u001b[43m.\u001b[49m\u001b[43maddGrid\u001b[49m\u001b[43m(\u001b[49m\u001b[43m)\u001b[49m\n",
      "\u001b[31mTypeError\u001b[39m: ParamGridBuilder.addGrid() missing 3 required positional arguments: 'self', 'param', and 'values'"
     ]
    }
   ],
   "source": [
    "grid = ParamGridBuilder.addGrid(param=)"
   ]
  },
  {
   "cell_type": "code",
   "execution_count": null,
   "id": "994dac8b",
   "metadata": {},
   "outputs": [],
   "source": []
  }
 ],
 "metadata": {
  "kernelspec": {
   "display_name": "myenv",
   "language": "python",
   "name": "python3"
  },
  "language_info": {
   "codemirror_mode": {
    "name": "ipython",
    "version": 3
   },
   "file_extension": ".py",
   "mimetype": "text/x-python",
   "name": "python",
   "nbconvert_exporter": "python",
   "pygments_lexer": "ipython3",
   "version": "3.11.2"
  }
 },
 "nbformat": 4,
 "nbformat_minor": 5
}
