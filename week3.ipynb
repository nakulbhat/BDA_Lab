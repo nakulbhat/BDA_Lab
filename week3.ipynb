{
 "cells": [
  {
   "cell_type": "markdown",
   "id": "435c0a8d",
   "metadata": {},
   "source": [
    "Develop a PySpark script to clean and preprocess data before performing entity resolution. \n",
    "Include steps like tokenization and normalization. "
   ]
  },
  {
   "cell_type": "code",
   "execution_count": 112,
   "id": "ba436b89",
   "metadata": {},
   "outputs": [],
   "source": [
    "from pyspark.sql import SparkSession\n",
    "spark = SparkSession.builder.appName('lab3').getOrCreate()\n",
    "sc = spark.sparkContext\n",
    "from pyspark.sql.functions import *\n",
    "from pyspark.ml.feature import Tokenizer"
   ]
  },
  {
   "cell_type": "code",
   "execution_count": 113,
   "id": "cfd4ae9b",
   "metadata": {},
   "outputs": [],
   "source": [
    "df1 = spark.read.csv('lab3_1_dataset.csv', header=True, inferSchema=True)\n",
    "df2 = spark.read.csv('lab3_2_dataset.csv', header=True, inferSchema=True)"
   ]
  },
  {
   "cell_type": "code",
   "execution_count": 114,
   "id": "15810dc9",
   "metadata": {},
   "outputs": [
    {
     "name": "stdout",
     "output_type": "stream",
     "text": [
      "+----+------------------+--------------------+\n",
      "|  id|              name|             address|\n",
      "+----+------------------+--------------------+\n",
      "|1859|        Nkev Koquo|1087 Uxkgk St, Zw...|\n",
      "|1402|     Awdeltx Flswj|1313 Bysqtepcyb S...|\n",
      "|3503|     Zvgk Qmnjjfub|4451 Uymmthnzp St...|\n",
      "|1009|    Suaxud Ybukuxq|4793 Fodikswks St...|\n",
      "|2737|              NULL|                NULL|\n",
      "| 276|   Bdiolpnl Iduwpc|3640 Hrfulh St, C...|\n",
      "|4600|      Mrada Gsxapz|7676 Sngqs St, Ut...|\n",
      "| 580|      Hiwz Zvsxqmr|1884 Guaxszlv St,...|\n",
      "|1901|Hogjboj Qnsbertdar|                NULL|\n",
      "|4861|      Wpk Gfduhflq|7724 Etqegoijrf S...|\n",
      "+----+------------------+--------------------+\n",
      "only showing top 10 rows\n",
      "+----+---------------+--------------------+\n",
      "|  id|           name|             address|\n",
      "+----+---------------+--------------------+\n",
      "|3935|Yurap Kyxusxecr| 7993 Xbai St, Nzfyl|\n",
      "|2135|           NULL|1410 Awcvaeroiq S...|\n",
      "|2814|     Uood Btuwf|3255 Qfofnxsik St...|\n",
      "|2090|  Pdullf Wioqxn|832 Tpjuaikwr St,...|\n",
      "|3557|    Snzd Dwkcec|9575 Vdpts St, Pt...|\n",
      "|3768| Assm Fzpmgwozs|2906 Cuxmttk St, ...|\n",
      "|1352|    Silbo Zmcqr|5464 Sbkuviz St, ...|\n",
      "| 171|Bktydc Ldtdmmpo|7460 Iatpchk St, ...|\n",
      "|3008| Epfhv Syxutzoh|                NULL|\n",
      "|3575|    Cfwx Cigppz|1227 Rotsyierj St...|\n",
      "+----+---------------+--------------------+\n",
      "only showing top 10 rows\n"
     ]
    }
   ],
   "source": [
    "df1.show(10)\n",
    "df2.show(10)"
   ]
  },
  {
   "cell_type": "code",
   "execution_count": 115,
   "id": "67068006",
   "metadata": {},
   "outputs": [],
   "source": [
    "df1 = df1.withColumn('name',regexp_replace(lower(col('name')), r'[\\.\\'\\\"#\\@]', ''))\n",
    "df2 = df2.withColumn('name',regexp_replace(lower(col('name')), r'[\\.\\'\\\"#\\@]', ''))"
   ]
  },
  {
   "cell_type": "code",
   "execution_count": 116,
   "id": "cca0ffc8",
   "metadata": {},
   "outputs": [],
   "source": [
    "df1= df1.dropna()\n",
    "df2 = df2.dropna()"
   ]
  },
  {
   "cell_type": "code",
   "execution_count": 117,
   "id": "a9c911a7",
   "metadata": {},
   "outputs": [],
   "source": [
    "tokenizer = Tokenizer(outputCol='name_tokens')\n",
    "tokenizer.setInputCol('name')\n",
    "df1 = tokenizer.transform(df1)\n",
    "df2 = tokenizer.transform(df2)"
   ]
  },
  {
   "cell_type": "code",
   "execution_count": 118,
   "id": "0f1192c8",
   "metadata": {},
   "outputs": [
    {
     "data": {
      "text/plain": [
       "StructType([StructField('id', IntegerType(), True), StructField('name', StringType(), True), StructField('address', StringType(), True), StructField('name_tokens', ArrayType(StringType(), True), True)])"
      ]
     },
     "execution_count": 118,
     "metadata": {},
     "output_type": "execute_result"
    }
   ],
   "source": [
    "df1.schema"
   ]
  },
  {
   "cell_type": "code",
   "execution_count": 119,
   "id": "82ce9d17",
   "metadata": {},
   "outputs": [
    {
     "data": {
      "text/plain": [
       "(2796, 2782)"
      ]
     },
     "execution_count": 119,
     "metadata": {},
     "output_type": "execute_result"
    }
   ],
   "source": [
    "df1.count(), df2.count()"
   ]
  },
  {
   "cell_type": "code",
   "execution_count": 120,
   "id": "b53f173c",
   "metadata": {},
   "outputs": [],
   "source": [
    "df1 = df1.withColumnRenamed('name', 'name_df1')\\\n",
    "         .withColumnRenamed('address', 'address_df1')\\\n",
    "         .withColumnRenamed('id', 'id_df1')\n",
    "\n",
    "df2 = df2.withColumnRenamed('name', 'name_df2')\\\n",
    "         .withColumnRenamed('address', 'address_df2')\\\n",
    "         .withColumnRenamed('id' , 'id_df2')"
   ]
  },
  {
   "cell_type": "code",
   "execution_count": 121,
   "id": "654a91ea",
   "metadata": {},
   "outputs": [],
   "source": [
    "merged = df1.join(df2, on='name_tokens', how='outer')\n",
    "merged = merged.withColumn('address_merged', coalesce('address_df1', 'address_df2'))\n",
    "merged = merged.withColumn('id_merged', coalesce('id_df1', 'id_df2'))\n",
    "merged = merged.drop('name_df1', 'name_df2')\n",
    "merged = merged.drop('address_df1', 'address_df2')\n",
    "merged = merged.drop('id_df1', 'id_df2')"
   ]
  },
  {
   "cell_type": "code",
   "execution_count": 122,
   "id": "8a828c95",
   "metadata": {},
   "outputs": [
    {
     "name": "stdout",
     "output_type": "stream",
     "text": [
      "+--------------------+---------+--------------------+\n",
      "|         name_tokens|id_merged|      address_tokens|\n",
      "+--------------------+---------+--------------------+\n",
      "|     [aad, ndxqfspc]|     3818|[4396, esapexm, s...|\n",
      "|       [aair, tnndz]|      941|[3281, dcai, st,,...|\n",
      "|   [aaj, paphxmfosv]|     3515|[8939, jwzhevs, s...|\n",
      "| [aajybwt, shqzlimt]|     1860|[4500, xkcygyshzf...|\n",
      "|    [aar, erjcdifjp]|     2687|[3931, uthytgt, s...|\n",
      "|   [aaugc, swbgkrdl]|     3599|[7657, xpxnwrhjg,...|\n",
      "|[aauxxxbv, jalxfc...|     4903|[4008, ozxg, st,,...|\n",
      "|  [aawv, tdjqumpezi]|     3184|[7643, mhpitlmfdg...|\n",
      "|[aazngrbn, ilfnaacl]|     3657|[374, hockagql, s...|\n",
      "|     [abe, kcrzwfho]|     1878|[357, uqjqmhzpu, ...|\n",
      "|   [abkm, rdsaohawk]|     4478|[4691, ypigqc, st...|\n",
      "|    [abl, wlktxuwlu]|     3804|[548, nthczioq, s...|\n",
      "|[abohjww, cmbyeezrm]|     1705|[7521, wqljpcr, s...|\n",
      "|  [abwuhj, pwludakn]|      652|[7678, gpdz, st,,...|\n",
      "| [abwwo, rooyarqofu]|     4935|[1111, aaxcqjf, s...|\n",
      "|[abzklrfz, lyqpwr...|     2037|[222, pkspwjvltc,...|\n",
      "|    [acfbs, befojjh]|     4614|[7006, hcrfsydvh,...|\n",
      "|    [acfr, fjbwkmkl]|     4809|[7684, tbhweqw, s...|\n",
      "|    [ach, pqglsrauv]|     1783|[495, rhgnegjxkx,...|\n",
      "|     [ackcji, edrzr]|      916|[8229, mcnyexu, s...|\n",
      "+--------------------+---------+--------------------+\n",
      "only showing top 20 rows\n"
     ]
    }
   ],
   "source": [
    "add_tokenizer = Tokenizer(inputCol='address_merged', outputCol='address_tokens')\n",
    "merged = add_tokenizer.transform(merged).drop('address_merged')\n",
    "merged.show()"
   ]
  },
  {
   "cell_type": "code",
   "execution_count": 123,
   "id": "140f8161",
   "metadata": {},
   "outputs": [],
   "source": [
    "merged_pairs = merged.alias('a').crossJoin(merged.alias('b'))"
   ]
  },
  {
   "cell_type": "code",
   "execution_count": 124,
   "id": "bc671d74",
   "metadata": {},
   "outputs": [],
   "source": [
    "from pyspark.sql.functions import udf\n",
    "from pyspark.sql.types import DoubleType\n",
    "\n",
    "def jaccard_similarity(list1, list2):\n",
    "    set1 = set(list1)\n",
    "    set2 = set(list2)\n",
    "    intersection = set1.intersection(set2)\n",
    "    union = set1.union(set2)\n",
    "    if not union:\n",
    "        return 0.0\n",
    "    return float(len(intersection)) / len(union)\n",
    "\n",
    "jaccard_udf = udf(jaccard_similarity, DoubleType())\n"
   ]
  },
  {
   "cell_type": "code",
   "execution_count": 125,
   "id": "15cb764b",
   "metadata": {},
   "outputs": [],
   "source": [
    "merged_pairs_with_jaccard = merged_pairs.withColumn(\"jaccard_score\", jaccard_udf(\"a.address_tokens\", \"b.address_tokens\"))"
   ]
  },
  {
   "cell_type": "code",
   "execution_count": 126,
   "id": "ab2ea841",
   "metadata": {},
   "outputs": [],
   "source": [
    "merged_pairs_with_jaccard = merged_pairs_with_jaccard.filter((col('jaccard_score') >= 0.5)).sort('jaccard_score')"
   ]
  },
  {
   "cell_type": "code",
   "execution_count": 127,
   "id": "4b7b51c1",
   "metadata": {},
   "outputs": [],
   "source": [
    "ground_truth = merged_pairs.filter('a.id_merged == b.id_merged')"
   ]
  },
  {
   "cell_type": "code",
   "execution_count": 128,
   "id": "dbcff84c",
   "metadata": {},
   "outputs": [
    {
     "name": "stderr",
     "output_type": "stream",
     "text": [
      "25/08/05 10:03:23 WARN ExtractPythonUDFFromJoinCondition: The join condition:(jaccard_similarity(address_tokens#1665, address_tokens#1704)#1716 >= 0.5) of the join plan contains PythonUDF only, it will be moved out and the join plan will be turned to cross join.\n",
      "                                                                                \r"
     ]
    }
   ],
   "source": [
    "tp = merged_pairs_with_jaccard.drop('jaccard_score').intersect(ground_truth)\n",
    "tp_count = tp.count()\n"
   ]
  },
  {
   "cell_type": "code",
   "execution_count": 129,
   "id": "7ec0778c",
   "metadata": {},
   "outputs": [
    {
     "name": "stderr",
     "output_type": "stream",
     "text": [
      "25/08/05 10:04:04 WARN ExtractPythonUDFFromJoinCondition: The join condition:(jaccard_similarity(address_tokens#1665, address_tokens#1704)#1716 >= 0.5) of the join plan contains PythonUDF only, it will be moved out and the join plan will be turned to cross join.\n",
      "                                                                                \r"
     ]
    }
   ],
   "source": [
    "fp = merged_pairs_with_jaccard.drop('jaccard_score').subtract(ground_truth)\n",
    "fp_count = fp.count()"
   ]
  },
  {
   "cell_type": "code",
   "execution_count": 130,
   "id": "dda3b0ba",
   "metadata": {},
   "outputs": [
    {
     "name": "stderr",
     "output_type": "stream",
     "text": [
      "25/08/05 10:04:44 WARN ExtractPythonUDFFromJoinCondition: The join condition:(jaccard_similarity(address_tokens#1895, address_tokens#1915)#1716 >= 0.5) of the join plan contains PythonUDF only, it will be moved out and the join plan will be turned to cross join.\n",
      "                                                                                \r"
     ]
    }
   ],
   "source": [
    "fn = ground_truth.subtract(merged_pairs_with_jaccard.drop('jaccard_score'))\n",
    "fn_count = fn.count()"
   ]
  },
  {
   "cell_type": "code",
   "execution_count": 132,
   "id": "f4cdbabf",
   "metadata": {},
   "outputs": [
    {
     "data": {
      "text/plain": [
       "(0.9865422183633601, 1.0, 0.9932255244755245)"
      ]
     },
     "execution_count": 132,
     "metadata": {},
     "output_type": "execute_result"
    }
   ],
   "source": [
    "precision = tp_count / (tp_count + fp_count)\n",
    "recall = tp_count / (tp_count + fn_count)\n",
    "f1 = 2 * (precision * recall) / (precision + recall)\n",
    "precision, recall, f1"
   ]
  },
  {
   "cell_type": "code",
   "execution_count": null,
   "id": "c5c8612e",
   "metadata": {},
   "outputs": [],
   "source": []
  }
 ],
 "metadata": {
  "kernelspec": {
   "display_name": "myenv",
   "language": "python",
   "name": "python3"
  },
  "language_info": {
   "codemirror_mode": {
    "name": "ipython",
    "version": 3
   },
   "file_extension": ".py",
   "mimetype": "text/x-python",
   "name": "python",
   "nbconvert_exporter": "python",
   "pygments_lexer": "ipython3",
   "version": "3.11.2"
  }
 },
 "nbformat": 4,
 "nbformat_minor": 5
}
